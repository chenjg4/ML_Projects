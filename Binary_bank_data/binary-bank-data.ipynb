{
 "cells": [
  {
   "cell_type": "markdown",
   "metadata": {},
   "source": [
    "### library"
   ]
  },
  {
   "cell_type": "code",
   "execution_count": 1,
   "metadata": {},
   "outputs": [
    {
     "name": "stdout",
     "output_type": "stream",
     "text": [
      "Available RAM: 3.71 GB\n",
      "number of CPU cores:20\n"
     ]
    }
   ],
   "source": [
    "import psutil\n",
    "import os\n",
    "def get_available_memory_gb():\n",
    "    \"\"\"Returns the amount of available physical memory in gigabytes.\"\"\"\n",
    "    # Get virtual memory statistics\n",
    "    mem = psutil.virtual_memory()\n",
    "    # Convert available memory from bytes to gigabytes\n",
    "    available_gb = mem.available / (1024**3)\n",
    "    return available_gb\n",
    "\n",
    "print(f\"Available RAM: {get_available_memory_gb():.2f} GB\")\n",
    "print(f'number of CPU cores:{os.cpu_count()}')"
   ]
  },
  {
   "cell_type": "code",
   "execution_count": 2,
   "metadata": {
    "execution": {
     "iopub.execute_input": "2025-08-29T15:50:24.886174Z",
     "iopub.status.busy": "2025-08-29T15:50:24.885702Z",
     "iopub.status.idle": "2025-08-29T15:50:27.377246Z",
     "shell.execute_reply": "2025-08-29T15:50:27.376449Z",
     "shell.execute_reply.started": "2025-08-29T15:50:24.886151Z"
    },
    "trusted": true
   },
   "outputs": [],
   "source": [
    "import pandas as pd\n",
    "import numpy as np\n",
    "import os\n",
    "\n",
    "### plots\n",
    "import matplotlib.pyplot as plt\n",
    "import seaborn as sns\n",
    "\n",
    "### better formatting\n",
    "from IPython.display import display\n",
    "import textwrap\n",
    "\n",
    "### feature encoding\n",
    "from sklearn.preprocessing import OneHotEncoder,FunctionTransformer,MinMaxScaler,StandardScaler, TargetEncoder\n",
    "from itertools import combinations\n",
    "\n",
    "\n",
    "## model\n",
    "from sklearn.model_selection import train_test_split, StratifiedKFold\n",
    "import xgboost as xgb\n",
    "from sklearn.ensemble import RandomForestClassifier\n",
    "\n",
    "### evaluation\n",
    "from sklearn.metrics import roc_auc_score, make_scorer\n",
    "\n",
    "\n",
    "# ### system launch, not used\n",
    "# from sklearn.pipeline import Pipeline\n",
    "# from sklearn.compose import ColumnTransformer\n",
    "# from sklearn.preprocessing import FunctionTransformer\n",
    "\n",
    "###  check sklearn version\n",
    "# import sklearn\n",
    "# print(sklearn.__version__)\n"
   ]
  },
  {
   "cell_type": "markdown",
   "metadata": {},
   "source": [
    "### dataset reading"
   ]
  },
  {
   "cell_type": "code",
   "execution_count": 3,
   "metadata": {
    "execution": {
     "iopub.execute_input": "2025-08-29T15:50:27.388827Z",
     "iopub.status.busy": "2025-08-29T15:50:27.388037Z",
     "iopub.status.idle": "2025-08-29T15:50:27.414651Z",
     "shell.execute_reply": "2025-08-29T15:50:27.413264Z",
     "shell.execute_reply.started": "2025-08-29T15:50:27.388790Z"
    },
    "trusted": true
   },
   "outputs": [
    {
     "name": "stdout",
     "output_type": "stream",
     "text": [
      "train shape (750000, 18), test shape (250000, 17), old data shape (45211, 17)\n"
     ]
    }
   ],
   "source": [
    "train = pd.read_csv(r'd:/python/github/Data-Science/binary_classi_bank_data/data/train.csv')\n",
    "test = pd.read_csv(r'd:/python/github/Data-Science/binary_classi_bank_data/data/test.csv')\n",
    "\n",
    "orig = pd.read_csv(r'd:/python/github/Data-Science/binary_classi_bank_data/data/bank-full.csv',sep=';')\n",
    "\n",
    "# train_data = pd.concat([train_data_new, old_data], ignore_index=True)\n",
    "print(f'train shape {train.shape}, test shape {test.shape}, old data shape {orig.shape}')"
   ]
  },
  {
   "cell_type": "code",
   "execution_count": 4,
   "metadata": {},
   "outputs": [
    {
     "name": "stdout",
     "output_type": "stream",
     "text": [
      "train shape (500000, 18), remaining shape (250000, 18)\n"
     ]
    }
   ],
   "source": [
    "### set aside 250k for evaluation (remaining), resemble test set\n",
    "train,remaining = train_test_split(train, test_size=25/75, random_state=2)\n",
    "print(f'train shape {train.shape}, remaining shape {remaining.shape}')"
   ]
  },
  {
   "cell_type": "code",
   "execution_count": 5,
   "metadata": {
    "execution": {
     "iopub.execute_input": "2025-08-29T15:50:30.209305Z",
     "iopub.status.busy": "2025-08-29T15:50:30.209109Z",
     "iopub.status.idle": "2025-08-29T15:50:30.341300Z",
     "shell.execute_reply": "2025-08-29T15:50:30.340598Z",
     "shell.execute_reply.started": "2025-08-29T15:50:30.209288Z"
    },
    "trusted": true
   },
   "outputs": [
    {
     "name": "stdout",
     "output_type": "stream",
     "text": [
      "train shape:(500000, 17)\n",
      "combined train shape(726055, 17)\n"
     ]
    },
    {
     "data": {
      "application/vnd.microsoft.datawrangler.viewer.v0+json": {
       "columns": [
        {
         "name": "index",
         "rawType": "int64",
         "type": "integer"
        },
        {
         "name": "age",
         "rawType": "int64",
         "type": "integer"
        },
        {
         "name": "job",
         "rawType": "object",
         "type": "string"
        },
        {
         "name": "marital",
         "rawType": "object",
         "type": "string"
        },
        {
         "name": "education",
         "rawType": "object",
         "type": "string"
        },
        {
         "name": "default",
         "rawType": "object",
         "type": "string"
        },
        {
         "name": "balance",
         "rawType": "int64",
         "type": "integer"
        },
        {
         "name": "housing",
         "rawType": "object",
         "type": "string"
        },
        {
         "name": "loan",
         "rawType": "object",
         "type": "string"
        },
        {
         "name": "contact",
         "rawType": "object",
         "type": "string"
        },
        {
         "name": "day",
         "rawType": "int64",
         "type": "integer"
        },
        {
         "name": "month",
         "rawType": "object",
         "type": "string"
        },
        {
         "name": "duration",
         "rawType": "int64",
         "type": "integer"
        },
        {
         "name": "campaign",
         "rawType": "int64",
         "type": "integer"
        },
        {
         "name": "pdays",
         "rawType": "int64",
         "type": "integer"
        },
        {
         "name": "previous",
         "rawType": "int64",
         "type": "integer"
        },
        {
         "name": "poutcome",
         "rawType": "object",
         "type": "string"
        },
        {
         "name": "y",
         "rawType": "int64",
         "type": "integer"
        }
       ],
       "ref": "b8c3d6c2-a42a-45fb-b9ba-4c971d658c6c",
       "rows": [
        [
         "0",
         "58",
         "management",
         "married",
         "tertiary",
         "no",
         "2143",
         "yes",
         "no",
         "unknown",
         "5",
         "may",
         "261",
         "1",
         "-1",
         "0",
         "unknown",
         "0"
        ],
        [
         "1",
         "44",
         "technician",
         "single",
         "secondary",
         "no",
         "29",
         "yes",
         "no",
         "unknown",
         "5",
         "may",
         "151",
         "1",
         "-1",
         "0",
         "unknown",
         "0"
        ],
        [
         "2",
         "33",
         "entrepreneur",
         "married",
         "secondary",
         "no",
         "2",
         "yes",
         "yes",
         "unknown",
         "5",
         "may",
         "76",
         "1",
         "-1",
         "0",
         "unknown",
         "0"
        ],
        [
         "3",
         "47",
         "blue-collar",
         "married",
         "unknown",
         "no",
         "1506",
         "yes",
         "no",
         "unknown",
         "5",
         "may",
         "92",
         "1",
         "-1",
         "0",
         "unknown",
         "0"
        ],
        [
         "4",
         "33",
         "unknown",
         "single",
         "unknown",
         "no",
         "1",
         "no",
         "no",
         "unknown",
         "5",
         "may",
         "198",
         "1",
         "-1",
         "0",
         "unknown",
         "0"
        ]
       ],
       "shape": {
        "columns": 17,
        "rows": 5
       }
      },
      "text/html": [
       "<div>\n",
       "<style scoped>\n",
       "    .dataframe tbody tr th:only-of-type {\n",
       "        vertical-align: middle;\n",
       "    }\n",
       "\n",
       "    .dataframe tbody tr th {\n",
       "        vertical-align: top;\n",
       "    }\n",
       "\n",
       "    .dataframe thead th {\n",
       "        text-align: right;\n",
       "    }\n",
       "</style>\n",
       "<table border=\"1\" class=\"dataframe\">\n",
       "  <thead>\n",
       "    <tr style=\"text-align: right;\">\n",
       "      <th></th>\n",
       "      <th>age</th>\n",
       "      <th>job</th>\n",
       "      <th>marital</th>\n",
       "      <th>education</th>\n",
       "      <th>default</th>\n",
       "      <th>balance</th>\n",
       "      <th>housing</th>\n",
       "      <th>loan</th>\n",
       "      <th>contact</th>\n",
       "      <th>day</th>\n",
       "      <th>month</th>\n",
       "      <th>duration</th>\n",
       "      <th>campaign</th>\n",
       "      <th>pdays</th>\n",
       "      <th>previous</th>\n",
       "      <th>poutcome</th>\n",
       "      <th>y</th>\n",
       "    </tr>\n",
       "  </thead>\n",
       "  <tbody>\n",
       "    <tr>\n",
       "      <th>0</th>\n",
       "      <td>58</td>\n",
       "      <td>management</td>\n",
       "      <td>married</td>\n",
       "      <td>tertiary</td>\n",
       "      <td>no</td>\n",
       "      <td>2143</td>\n",
       "      <td>yes</td>\n",
       "      <td>no</td>\n",
       "      <td>unknown</td>\n",
       "      <td>5</td>\n",
       "      <td>may</td>\n",
       "      <td>261</td>\n",
       "      <td>1</td>\n",
       "      <td>-1</td>\n",
       "      <td>0</td>\n",
       "      <td>unknown</td>\n",
       "      <td>0</td>\n",
       "    </tr>\n",
       "    <tr>\n",
       "      <th>1</th>\n",
       "      <td>44</td>\n",
       "      <td>technician</td>\n",
       "      <td>single</td>\n",
       "      <td>secondary</td>\n",
       "      <td>no</td>\n",
       "      <td>29</td>\n",
       "      <td>yes</td>\n",
       "      <td>no</td>\n",
       "      <td>unknown</td>\n",
       "      <td>5</td>\n",
       "      <td>may</td>\n",
       "      <td>151</td>\n",
       "      <td>1</td>\n",
       "      <td>-1</td>\n",
       "      <td>0</td>\n",
       "      <td>unknown</td>\n",
       "      <td>0</td>\n",
       "    </tr>\n",
       "    <tr>\n",
       "      <th>2</th>\n",
       "      <td>33</td>\n",
       "      <td>entrepreneur</td>\n",
       "      <td>married</td>\n",
       "      <td>secondary</td>\n",
       "      <td>no</td>\n",
       "      <td>2</td>\n",
       "      <td>yes</td>\n",
       "      <td>yes</td>\n",
       "      <td>unknown</td>\n",
       "      <td>5</td>\n",
       "      <td>may</td>\n",
       "      <td>76</td>\n",
       "      <td>1</td>\n",
       "      <td>-1</td>\n",
       "      <td>0</td>\n",
       "      <td>unknown</td>\n",
       "      <td>0</td>\n",
       "    </tr>\n",
       "    <tr>\n",
       "      <th>3</th>\n",
       "      <td>47</td>\n",
       "      <td>blue-collar</td>\n",
       "      <td>married</td>\n",
       "      <td>unknown</td>\n",
       "      <td>no</td>\n",
       "      <td>1506</td>\n",
       "      <td>yes</td>\n",
       "      <td>no</td>\n",
       "      <td>unknown</td>\n",
       "      <td>5</td>\n",
       "      <td>may</td>\n",
       "      <td>92</td>\n",
       "      <td>1</td>\n",
       "      <td>-1</td>\n",
       "      <td>0</td>\n",
       "      <td>unknown</td>\n",
       "      <td>0</td>\n",
       "    </tr>\n",
       "    <tr>\n",
       "      <th>4</th>\n",
       "      <td>33</td>\n",
       "      <td>unknown</td>\n",
       "      <td>single</td>\n",
       "      <td>unknown</td>\n",
       "      <td>no</td>\n",
       "      <td>1</td>\n",
       "      <td>no</td>\n",
       "      <td>no</td>\n",
       "      <td>unknown</td>\n",
       "      <td>5</td>\n",
       "      <td>may</td>\n",
       "      <td>198</td>\n",
       "      <td>1</td>\n",
       "      <td>-1</td>\n",
       "      <td>0</td>\n",
       "      <td>unknown</td>\n",
       "      <td>0</td>\n",
       "    </tr>\n",
       "  </tbody>\n",
       "</table>\n",
       "</div>"
      ],
      "text/plain": [
       "   age           job  marital  education default  balance housing loan  \\\n",
       "0   58    management  married   tertiary      no     2143     yes   no   \n",
       "1   44    technician   single  secondary      no       29     yes   no   \n",
       "2   33  entrepreneur  married  secondary      no        2     yes  yes   \n",
       "3   47   blue-collar  married    unknown      no     1506     yes   no   \n",
       "4   33       unknown   single    unknown      no        1      no   no   \n",
       "\n",
       "   contact  day month  duration  campaign  pdays  previous poutcome  y  \n",
       "0  unknown    5   may       261         1     -1         0  unknown  0  \n",
       "1  unknown    5   may       151         1     -1         0  unknown  0  \n",
       "2  unknown    5   may        76         1     -1         0  unknown  0  \n",
       "3  unknown    5   may        92         1     -1         0  unknown  0  \n",
       "4  unknown    5   may       198         1     -1         0  unknown  0  "
      ]
     },
     "metadata": {},
     "output_type": "display_data"
    }
   ],
   "source": [
    "### format old data the same target variable as training data\n",
    "orig['y'] = orig['y'].apply(lambda x: 1 if x == 'yes' else 0)\n",
    "\n",
    "## drop id column in train\n",
    "train.drop(['id'], axis=1, inplace=True)\n",
    "print(f'train shape:{train.shape}')\n",
    "\n",
    "### concat old data with train\n",
    "train = pd.concat([orig,train, orig, orig, orig, orig], ignore_index=True)\n",
    "\n",
    "### preview train dataset\n",
    "print(f'combined train shape{train.shape}')\n",
    "display(train.head(5))\n",
    "\n",
    "### submission data frame\n",
    "predict_df = test[['id']].copy()\n",
    "test.drop('id', axis=1, inplace=True)"
   ]
  },
  {
   "cell_type": "markdown",
   "metadata": {},
   "source": [
    "### column preprocess"
   ]
  },
  {
   "cell_type": "markdown",
   "metadata": {},
   "source": [
    "#### data type process"
   ]
  },
  {
   "cell_type": "code",
   "execution_count": 6,
   "metadata": {
    "execution": {
     "iopub.execute_input": "2025-08-29T15:50:30.932050Z",
     "iopub.status.busy": "2025-08-29T15:50:30.931619Z",
     "iopub.status.idle": "2025-08-29T15:50:31.158821Z",
     "shell.execute_reply": "2025-08-29T15:50:31.157822Z",
     "shell.execute_reply.started": "2025-08-29T15:50:30.932005Z"
    },
    "trusted": true
   },
   "outputs": [],
   "source": [
    "#### column data type formating: yes/no -> 1/0\n",
    "\n",
    "def column_type_preprocess(df):\n",
    "    ### to prevent many times running error\n",
    "    if df['default'].dtypes == 'float64':\n",
    "        return df\n",
    "\n",
    "    ### boolean\n",
    "    boolean_col_map = {'no':0, 'yes':1}\n",
    "    df['default'] = df['default'].map(boolean_col_map)\n",
    "    df['housing'] = df['housing'].map(boolean_col_map)\n",
    "    df['loan'] = df['loan'].map(boolean_col_map)\n",
    "\n",
    "    ### outcome\n",
    "    df['poutcome'] = df['poutcome'].map({\n",
    "        'unknown': -1,\n",
    "        'other': -1,\n",
    "        'failure': 0,\n",
    "        'success': 1\n",
    "    })\n",
    "\n",
    "### process for train/test/remaining\n",
    "column_type_preprocess(train)\n",
    "column_type_preprocess(test)\n",
    "column_type_preprocess(remaining)"
   ]
  },
  {
   "cell_type": "code",
   "execution_count": 7,
   "metadata": {
    "execution": {
     "iopub.execute_input": "2025-08-29T15:50:31.159962Z",
     "iopub.status.busy": "2025-08-29T15:50:31.159662Z",
     "iopub.status.idle": "2025-08-29T15:50:31.361968Z",
     "shell.execute_reply": "2025-08-29T15:50:31.360838Z",
     "shell.execute_reply.started": "2025-08-29T15:50:31.159945Z"
    },
    "trusted": true
   },
   "outputs": [
    {
     "name": "stdout",
     "output_type": "stream",
     "text": [
      "numeric columns 11\n",
      "['age', 'default', 'balance', 'housing', 'loan', 'day', 'duration', 'campaign', 'pdays', 'previous', 'poutcome']\n",
      "\n",
      "string columns 5\n",
      "['job', 'marital', 'education', 'contact', 'month']\n"
     ]
    }
   ],
   "source": [
    "#### feature columns\n",
    "categorical_cols = train.select_dtypes(include=['object']).columns.tolist()\n",
    "numeric_cols = train.select_dtypes(include=['float64','int64']).columns.tolist()\n",
    "numeric_cols.remove('y')\n",
    "\n",
    "print(f'numeric columns {len(numeric_cols)}\\n{numeric_cols}')\n",
    "print(f'\\nstring columns {len(categorical_cols)}\\n{categorical_cols}')"
   ]
  },
  {
   "cell_type": "code",
   "execution_count": null,
   "metadata": {},
   "outputs": [
    {
     "name": "stdout",
     "output_type": "stream",
     "text": [
      "job:\t test has 0 new values compared with train\n",
      "marital:\t test has 0 new values compared with train\n",
      "education:\t test has 0 new values compared with train\n",
      "contact:\t test has 0 new values compared with train\n",
      "month:\t test has 0 new values compared with train\n"
     ]
    }
   ],
   "source": [
    "# ### check if test and train columns have same value for original categorical values\n",
    "# for col in categorical_cols:\n",
    "#     print(f'{col}:\\t test has {len(set(test[col].unique())-set(train[col].unique()))} new values compared with train')"
   ]
  },
  {
   "cell_type": "markdown",
   "metadata": {},
   "source": [
    "#### replicate numeric columns"
   ]
  },
  {
   "cell_type": "code",
   "execution_count": 10,
   "metadata": {
    "execution": {
     "iopub.execute_input": "2025-08-29T15:50:31.363158Z",
     "iopub.status.busy": "2025-08-29T15:50:31.362833Z",
     "iopub.status.idle": "2025-08-29T15:50:34.494190Z",
     "shell.execute_reply": "2025-08-29T15:50:34.493200Z",
     "shell.execute_reply.started": "2025-08-29T15:50:31.363135Z"
    },
    "trusted": true
   },
   "outputs": [
    {
     "name": "stdout",
     "output_type": "stream",
     "text": [
      "total train columns:Index(['age', 'job', 'marital', 'education', 'default', 'balance', 'housing',\n",
      "       'loan', 'contact', 'day', 'month', 'duration', 'campaign', 'pdays',\n",
      "       'previous', 'poutcome', 'y', 'age_cat', 'default_cat', 'balance_cat',\n",
      "       'housing_cat', 'loan_cat', 'day_cat', 'duration_cat', 'campaign_cat',\n",
      "       'pdays_cat', 'previous_cat', 'poutcome_cat'],\n",
      "      dtype='object')\n",
      "\n",
      " new categorical cols (length 16):['job', 'marital', 'education', 'contact', 'month', 'age_cat', 'default_cat', 'balance_cat', 'housing_cat', 'loan_cat', 'day_cat', 'duration_cat', 'campaign_cat', 'pdays_cat', 'previous_cat', 'poutcome_cat']\n",
      "\n",
      "CPU times: total: 1.62 s\n",
      "Wall time: 1.63 s\n"
     ]
    }
   ],
   "source": [
    "%%time\n",
    "### duplicate numerical cols to string cols\n",
    "def duplicate_num_cols(df, num_cols, cat_cols):\n",
    "    ### treat -1 as a very large days\n",
    "    df.loc[df['pdays']==-1,'pdays'] = 10000\n",
    "    \n",
    "    for col in num_cols:\n",
    "        ### numeric cols to string\n",
    "        new_col_name1 = col + '_cat'\n",
    "\n",
    "        df[new_col_name1] = df[col].astype(str)\n",
    "\n",
    "        ## new columns added to categorical value list\n",
    "        if new_col_name1 not in cat_cols:\n",
    "            cat_cols.append(new_col_name1)\n",
    "\n",
    "\n",
    "### duplicate num columns for train/test/remaining\n",
    "duplicate_num_cols(train,numeric_cols,categorical_cols)\n",
    "print(f'total train columns:{train.columns}\\n\\n new categorical cols (length {len(categorical_cols)}):{categorical_cols}\\n')\n",
    "\n",
    "### duplicate num columns for test\n",
    "duplicate_num_cols(test,numeric_cols,categorical_cols)\n",
    "\n",
    "### duplicate num columns for remaining\n",
    "duplicate_num_cols(remaining,numeric_cols,categorical_cols)"
   ]
  },
  {
   "cell_type": "markdown",
   "metadata": {},
   "source": [
    "#### replace test new values with nearest train data"
   ]
  },
  {
   "cell_type": "code",
   "execution_count": 11,
   "metadata": {},
   "outputs": [
    {
     "name": "stdout",
     "output_type": "stream",
     "text": [
      "duration_cat has 45 new values\n",
      "pdays_cat has 18 new values\n",
      "balance_cat has 246 new values\n",
      "previous_cat has 3 new values\n"
     ]
    }
   ],
   "source": [
    "### test set:replace new values with nearest train data\n",
    "\n",
    "for col in set(categorical_cols):\n",
    "    ### if there is new values in test set\n",
    "    if len(set(test[col].unique())-set(train[col].unique())) > 0:\n",
    "        #### get all values in test set\n",
    "        test_values = sorted(list(set(test[col].unique().astype(float))))\n",
    "        #### get all values in train set\n",
    "        train_values = sorted(list(set(train[col].unique().astype(float))))\n",
    "        \n",
    "        print(f'{col} has {len(set(test_values)-set(train_values))} new values')\n",
    "        ### loop every new values in test set\n",
    "        for value_t in set(test_values)-set(train_values):\n",
    "            ### get nearst corresponding index in train value set\n",
    "            min_index = abs(train_values - value_t).argmin()\n",
    "            ### get target value from train col_cat column\n",
    "            target_Value = train[train[col].astype(float)==train_values[min_index]][col].tolist()[0]\n",
    "            ### print new value in test, its train value index, train value, and target value from train set\n",
    "            # print(str(value_t), min_index, str(train_values[min_index]), target_Value)\n",
    "            ### set back to test column value\n",
    "            test.loc[test[col].astype(float)==value_t, col] = target_Value"
   ]
  },
  {
   "cell_type": "code",
   "execution_count": 12,
   "metadata": {},
   "outputs": [
    {
     "name": "stdout",
     "output_type": "stream",
     "text": [
      "total categorical columns: 16\n",
      "job:\t test has 0 new values compared with train\n",
      "marital:\t test has 0 new values compared with train\n",
      "education:\t test has 0 new values compared with train\n",
      "contact:\t test has 0 new values compared with train\n",
      "month:\t test has 0 new values compared with train\n",
      "age_cat:\t test has 0 new values compared with train\n",
      "default_cat:\t test has 0 new values compared with train\n",
      "balance_cat:\t test has 0 new values compared with train\n",
      "housing_cat:\t test has 0 new values compared with train\n",
      "loan_cat:\t test has 0 new values compared with train\n",
      "day_cat:\t test has 0 new values compared with train\n",
      "duration_cat:\t test has 0 new values compared with train\n",
      "campaign_cat:\t test has 0 new values compared with train\n",
      "pdays_cat:\t test has 0 new values compared with train\n",
      "previous_cat:\t test has 0 new values compared with train\n",
      "poutcome_cat:\t test has 0 new values compared with train\n"
     ]
    }
   ],
   "source": [
    "print('total categorical columns:', len(categorical_cols))\n",
    "### ensure test and train columns have same value\n",
    "for col in categorical_cols:\n",
    "    print(f'{col}:\\t test has {len(set(test[col].unique())-set(train[col].unique()))} new values compared with train')"
   ]
  },
  {
   "cell_type": "markdown",
   "metadata": {},
   "source": [
    "#### replace remaining set new values with nearest train data"
   ]
  },
  {
   "cell_type": "code",
   "execution_count": 13,
   "metadata": {},
   "outputs": [
    {
     "name": "stdout",
     "output_type": "stream",
     "text": [
      "duration_cat has 36 new values\n",
      "pdays_cat has 19 new values\n",
      "balance_cat has 271 new values\n",
      "previous_cat has 1 new values\n"
     ]
    }
   ],
   "source": [
    "### remaining set: replace new values with nearest train data, same process as test\n",
    "\n",
    "for col in set(categorical_cols):\n",
    "    ### if there is new values in remaining set\n",
    "    if len(set(remaining[col].unique())-set(train[col].unique())) > 0:\n",
    "        #### get all values in remaining set\n",
    "        remain_values = sorted(list(set(remaining[col].unique().astype(float))))\n",
    "        #### get all values in train set\n",
    "        train_values = sorted(list(set(train[col].unique().astype(float))))\n",
    "        \n",
    "        print(f'{col} has {len(set(remain_values)-set(train_values))} new values')\n",
    "        ### loop every new values in remaining set\n",
    "        for value_t in set(remain_values)-set(train_values):\n",
    "            ### get nearst corresponding index in train value set\n",
    "            min_index = abs(train_values - value_t).argmin()\n",
    "            ### get target value from train col_cat column\n",
    "            target_Value = train[train[col].astype(float)==train_values[min_index]][col].tolist()[0]\n",
    "            ### print new value in remaining, its train value index, train value, and target value from train set\n",
    "            # print(str(value_t), min_index, str(train_values[min_index]), target_Value)\n",
    "            ### set back to remaining column value\n",
    "            remaining.loc[remaining[col].astype(float)==value_t, col] = target_Value"
   ]
  },
  {
   "cell_type": "code",
   "execution_count": 14,
   "metadata": {},
   "outputs": [
    {
     "name": "stdout",
     "output_type": "stream",
     "text": [
      "total categorical columns: 16\n",
      "job:\t remaining has 0 new values compared with train\n",
      "marital:\t remaining has 0 new values compared with train\n",
      "education:\t remaining has 0 new values compared with train\n",
      "contact:\t remaining has 0 new values compared with train\n",
      "month:\t remaining has 0 new values compared with train\n",
      "age_cat:\t remaining has 0 new values compared with train\n",
      "default_cat:\t remaining has 0 new values compared with train\n",
      "balance_cat:\t remaining has 0 new values compared with train\n",
      "housing_cat:\t remaining has 0 new values compared with train\n",
      "loan_cat:\t remaining has 0 new values compared with train\n",
      "day_cat:\t remaining has 0 new values compared with train\n",
      "duration_cat:\t remaining has 0 new values compared with train\n",
      "campaign_cat:\t remaining has 0 new values compared with train\n",
      "pdays_cat:\t remaining has 0 new values compared with train\n",
      "previous_cat:\t remaining has 0 new values compared with train\n",
      "poutcome_cat:\t remaining has 0 new values compared with train\n"
     ]
    }
   ],
   "source": [
    "print('total categorical columns:', len(categorical_cols))\n",
    "### ensure remaining and train columns have same value\n",
    "for col in categorical_cols:\n",
    "    print(f'{col}:\\t remaining has {len(set(remaining[col].unique())-set(train[col].unique()))} new values compared with train')"
   ]
  },
  {
   "cell_type": "markdown",
   "metadata": {},
   "source": [
    "#### pair-wise column generation"
   ]
  },
  {
   "cell_type": "code",
   "execution_count": null,
   "metadata": {},
   "outputs": [],
   "source": [
    "#### ensure no duplication\n",
    "categorical_cols = list(set(categorical_cols))"
   ]
  },
  {
   "cell_type": "code",
   "execution_count": null,
   "metadata": {
    "execution": {
     "iopub.execute_input": "2025-08-29T15:50:34.497306Z",
     "iopub.status.busy": "2025-08-29T15:50:34.497051Z",
     "iopub.status.idle": "2025-08-29T15:51:46.176626Z",
     "shell.execute_reply": "2025-08-29T15:51:46.175625Z",
     "shell.execute_reply.started": "2025-08-29T15:50:34.497289Z"
    },
    "trusted": true
   },
   "outputs": [
    {
     "name": "stdout",
     "output_type": "stream",
     "text": [
      "new columns generated:  120 120\n",
      "train column length (total column length) 148\n",
      "new columns generated:  120 120\n",
      "new columns generated:  120 120\n",
      "CPU times: total: 23.8 s\n",
      "Wall time: 26.1 s\n"
     ]
    }
   ],
   "source": [
    "%%time\n",
    "### for all categorical values, combine every two of them to form a new column\n",
    "def pair_columns(df, cat_cols):\n",
    "    new_columns = []\n",
    "    ### to prevent many times of insert, use a dictionary instead\n",
    "    temp_df_dict = {}\n",
    "    \n",
    "    for (col_1, col_2) in list(combinations(cat_cols, 2)):\n",
    "        ## new cat cols pair with old categorical \n",
    "        col_1, col_2 = sorted([col_1,col_2])\n",
    "        \n",
    "        new_col_name2 = col_1+'-'+col_2\n",
    "        # print(new_col_name2)\n",
    "        if not (new_col_name2 in new_columns):\n",
    "            new_columns.append(new_col_name2)\n",
    "\n",
    "            ## new columns generated and temporarily contained in a dictionary\n",
    "            temp_df_dict[new_col_name2] = (df[col_1]+'-'+df[col_2])\n",
    "\n",
    "\n",
    "    print('new columns generated: ',len(temp_df_dict))\n",
    "\n",
    "    ### final one time merge to reduce operation\n",
    "    df = df.merge(pd.DataFrame(temp_df_dict, index=df.index),\n",
    "                 how='left', left_index=True, right_index=True)\n",
    "    \n",
    "    return df,new_columns\n",
    "\n",
    "### generate pair-wise feature for train\n",
    "train,new_cols_generated = pair_columns(train,categorical_cols)\n",
    "print(f'train column length (total column length) {len(train.columns)}')\n",
    "\n",
    "### process test\n",
    "test,_ = pair_columns(test,categorical_cols)\n",
    "\n",
    "### process remaining\n",
    "remaining,_ = pair_columns(remaining,categorical_cols)\n",
    "\n",
    "# train[categorical_cols] = train[categorical_cols].astype('category')\n",
    "# test[categorical_cols] = test[categorical_cols].astype('category')\n"
   ]
  },
  {
   "cell_type": "code",
   "execution_count": null,
   "metadata": {},
   "outputs": [
    {
     "name": "stdout",
     "output_type": "stream",
     "text": [
      "all category columns (16):\n",
      "\n"
     ]
    }
   ],
   "source": [
    "new_categorical_cols = categorical_cols + list(set(new_cols_generated))\n",
    "print(f'all category columns ({len(new_categorical_cols)}):\\n')"
   ]
  },
  {
   "cell_type": "markdown",
   "metadata": {},
   "source": [
    "#### target encoding for all category columns"
   ]
  },
  {
   "cell_type": "code",
   "execution_count": 17,
   "metadata": {},
   "outputs": [
    {
     "name": "stdout",
     "output_type": "stream",
     "text": [
      "start to merging train\n",
      "start to merging test\n",
      "start to remaining test\n",
      "start to drop old category columns\n",
      "done. train shape (726055, 44), test shape: (250000, 43)\n",
      "\n",
      "CPU times: total: 3.28 s\n",
      "Wall time: 3.31 s\n"
     ]
    }
   ],
   "source": [
    "%%time\n",
    "\n",
    "# #### target encoding for all new categorical values\n",
    "# ### main idea: compute y mean and frequency based on each cat col\n",
    "# using maps to store new columns for mean and count, and final merge, to reduce time\n",
    "# caution: not save mean and count values\n",
    "\n",
    "if new_categorical_cols[0] not in train.columns:\n",
    "    print('already processed, plese skip this cell')\n",
    "else:\n",
    "    train_new_cols = {}  ### shape: (len(train.index), len(new_categorical_cols)*2)\n",
    "    test_new_cols = {}\n",
    "    remain_new_cols = {}\n",
    "\n",
    "    i = 0\n",
    "    for col in new_categorical_cols:\n",
    "    \n",
    "        temp_df = train[[col,'y']].groupby([col])['y'].agg(['mean','count'])\n",
    "        # print('processing col:', col)\n",
    "        mean_map = temp_df['mean'].to_dict()\n",
    "        count_map = temp_df['count'].to_dict()\n",
    "    \n",
    "        train_new_cols[col+'_mean'] = train[col].map(mean_map)\n",
    "        train_new_cols[col+'_count'] = train[col].map(count_map)\n",
    "    \n",
    "        test_new_cols[col+'_mean'] = test[col].map(mean_map)\n",
    "        test_new_cols[col+'_count'] = test[col].map(count_map)\n",
    "\n",
    "        remain_new_cols[col+'_mean'] = remaining[col].map(mean_map)\n",
    "        remain_new_cols[col+'_count'] = remaining[col].map(count_map)\n",
    "\n",
    "        i +=  1\n",
    "        if i%20==0:\n",
    "            print('processed cols:', i)\n",
    "\n",
    "    print('start to merging train')\n",
    "    train=pd.concat([train, pd.DataFrame(train_new_cols,index=train.index)], \n",
    "              axis=1)\n",
    "\n",
    "    print('start to merging test')\n",
    "    test=pd.concat([test, pd.DataFrame(test_new_cols,index=test.index)], \n",
    "             axis=1)\n",
    "\n",
    "    print('start to remaining test')\n",
    "    remaining=pd.concat([remaining, pd.DataFrame(remain_new_cols,index=remaining.index)], \n",
    "             axis=1)\n",
    "\n",
    "    print('start to drop old category columns')\n",
    "    train.drop(columns=new_categorical_cols, inplace=True)\n",
    "    test.drop(columns=new_categorical_cols, inplace=True)\n",
    "\n",
    "    remaining.drop(columns=new_categorical_cols, inplace=True)\n",
    "    print(f'done. train shape {train.shape}, test shape: {test.shape}\\n')"
   ]
  },
  {
   "cell_type": "markdown",
   "metadata": {},
   "source": [
    "#### numeric encoding\n"
   ]
  },
  {
   "cell_type": "code",
   "execution_count": 18,
   "metadata": {},
   "outputs": [],
   "source": [
    "### numeric scaler\n",
    "num_scaler =  StandardScaler ()\n",
    "\n",
    "def numeric_scaler(df, train=True):\n",
    "\n",
    "    ### apply log scale, keep the sign \n",
    "    df[numeric_cols] = np.sign(df[numeric_cols]) * np.log2(np.abs(df[numeric_cols])+1)\n",
    "\n",
    "    # print(df[numeric_cols].describe())\n",
    "    \n",
    "    ### train fit\n",
    "    if train:\n",
    "        num_scaler.fit(df[numeric_cols])\n",
    "\n",
    "    ### train/test transform\n",
    "    df[numeric_cols] = num_scaler.transform(df[numeric_cols]).round(5)\n",
    "\n",
    "    return df\n",
    "\n",
    "\n",
    "train = numeric_scaler(train)\n",
    "test = numeric_scaler(test, train=False)\n",
    "\n",
    "remaining = numeric_scaler(remaining, train=False)"
   ]
  },
  {
   "cell_type": "code",
   "execution_count": null,
   "metadata": {},
   "outputs": [],
   "source": [
    "# train.to_csv('train_half_processed.csv', index=False, compression='gzip')\n",
    "# remaining.to_csv('remaining_half_unprocessed.csv', index=False, compression='gzip')"
   ]
  },
  {
   "cell_type": "markdown",
   "metadata": {},
   "source": [
    "#### replace remaining set empty values with train mean"
   ]
  },
  {
   "cell_type": "code",
   "execution_count": null,
   "metadata": {},
   "outputs": [
    {
     "name": "stdout",
     "output_type": "stream",
     "text": [
      "(0, 45)\n",
      "0\n"
     ]
    }
   ],
   "source": [
    "####  check if remaining has empty in all column values\n",
    "print('remaining empty columns count: ', remaining.isnull().any(axis=0).sum())\n",
    "print('remaining empty rows and column count:', remaining[remaining.isnull().any(axis=1)].shape)\n"
   ]
  },
  {
   "cell_type": "code",
   "execution_count": null,
   "metadata": {},
   "outputs": [],
   "source": [
    "remaining_testsize = remaining.copy()\n",
    "na_cols = remaining_testsize.columns[remaining_testsize.isna().any()]\n",
    "for col in na_cols:\n",
    "    if remaining_testsize[col].dtypes=='float64':\n",
    "\n",
    "        remaining_testsize.fillna({col:train[col].mean()},\n",
    "                                inplace=True)\n",
    "    else:\n",
    "        remaining_testsize.fillna({col:round(train[col].mean(),0)},\n",
    "                        inplace=True)\n",
    "\n",
    "    # remaining_testsize.fillna({col:X_train[col].mean()},inplace=True)"
   ]
  },
  {
   "cell_type": "markdown",
   "metadata": {},
   "source": [
    "#### replace test empty values with train mean"
   ]
  },
  {
   "cell_type": "code",
   "execution_count": null,
   "metadata": {},
   "outputs": [],
   "source": [
    "####  check if test has empty in all column values\n",
    "print('test empty columns count: ', test.isnull().any(axis=0).sum())\n",
    "print('test empty rows and column count:', test[test.isnull().any(axis=1)].shape)\n"
   ]
  },
  {
   "cell_type": "code",
   "execution_count": 16,
   "metadata": {},
   "outputs": [],
   "source": [
    "#### test na filled\n",
    "\n",
    "test_na_filled = test.copy()\n",
    "\n",
    "na_cols = test_na_filled.columns[test_na_filled.isna().any()]\n",
    "\n",
    "for col in na_cols:\n",
    "\n",
    "    if test_na_filled[col].dtypes=='float64':\n",
    "\n",
    "        test_na_filled.fillna({col:train[col].mean()},\n",
    "                                inplace=True)\n",
    "    else:\n",
    "        #### int64 data type, round to int\n",
    "        test_na_filled.fillna({col:round(train[col].mean(),0)},\n",
    "                        inplace=True)"
   ]
  },
  {
   "cell_type": "code",
   "execution_count": null,
   "metadata": {},
   "outputs": [],
   "source": []
  },
  {
   "cell_type": "markdown",
   "metadata": {},
   "source": [
    "### train evaluate split"
   ]
  },
  {
   "cell_type": "code",
   "execution_count": 21,
   "metadata": {
    "execution": {
     "execution_failed": "2025-08-29T15:49:52.995Z"
    },
    "trusted": true
   },
   "outputs": [
    {
     "name": "stdout",
     "output_type": "stream",
     "text": [
      "(508238, 43) (217817, 43)\n"
     ]
    }
   ],
   "source": [
    "\n",
    "if 'y' in train.columns:\n",
    "    Y_train = train['y'].copy()\n",
    "    train.drop(['y'], axis=1, inplace=True)\n",
    "\n",
    "X_train, X_valid, y_train, y_valid = train_test_split(train, Y_train, test_size=0.3, random_state=40)\n",
    "\n",
    "print(X_train.shape, X_valid.shape)"
   ]
  },
  {
   "cell_type": "code",
   "execution_count": 22,
   "metadata": {},
   "outputs": [
    {
     "name": "stdout",
     "output_type": "stream",
     "text": [
      "Available RAM: 4.57 GB\n",
      "Available RAM: 4.80 GB\n"
     ]
    }
   ],
   "source": [
    "print(f\"Available RAM: {get_available_memory_gb():.2f} GB\")\n",
    "del train\n",
    "print(f\"Available RAM: {get_available_memory_gb():.2f} GB\")"
   ]
  },
  {
   "cell_type": "code",
   "execution_count": 17,
   "metadata": {},
   "outputs": [],
   "source": [
    "### remaining set label\n",
    "Y_remaining = remaining['y'].copy()\n",
    "remaining.drop(['y','id'], axis=1, inplace=True)"
   ]
  },
  {
   "cell_type": "markdown",
   "metadata": {},
   "source": [
    "### XGB only"
   ]
  },
  {
   "cell_type": "code",
   "execution_count": 25,
   "metadata": {
    "execution": {
     "execution_failed": "2025-08-29T15:49:52.995Z"
    },
    "trusted": true
   },
   "outputs": [
    {
     "name": "stdout",
     "output_type": "stream",
     "text": [
      "{'objective': 'binary:logistic', 'base_score': None, 'booster': None, 'colsample_bylevel': None, 'colsample_bynode': None, 'colsample_bytree': 0.7, 'device': None, 'eval_metric': 'auc', 'gamma': None, 'grow_policy': None, 'interaction_constraints': None, 'learning_rate': 0.1, 'max_bin': None, 'max_cat_threshold': None, 'max_cat_to_onehot': None, 'max_delta_step': None, 'max_depth': 10, 'max_leaves': 32, 'min_child_weight': None, 'monotone_constraints': None, 'multi_strategy': None, 'n_jobs': -1, 'num_parallel_tree': None, 'random_state': None, 'reg_alpha': None, 'reg_lambda': 0.8, 'sampling_method': None, 'scale_pos_weight': None, 'subsample': 0.8, 'tree_method': None, 'validate_parameters': None, 'verbosity': None, 'alpha': 2}\n",
      "CPU times: total: 16min 28s\n",
      "Wall time: 1min 6s\n"
     ]
    }
   ],
   "source": [
    "%%time\n",
    "### model training\n",
    "xgb_only = xgb.XGBClassifier(\n",
    "            n_estimators=500,\n",
    "            learning_rate=0.1,\n",
    "            max_depth=10,\n",
    "            subsample=0.8,\n",
    "            reg_lambda = 0.8,\n",
    "            colsample_bytree = 0.7,\n",
    "            eval_metric='auc',\n",
    "            max_leaves = 32,\n",
    "            alpha=2,\n",
    "            early_stopping_rounds = 50,\n",
    "            n_jobs = -1\n",
    "            # verbose=1\n",
    "        )\n",
    "\n",
    "xgb_only.fit(X_train,y_train, eval_set=[(X_train, y_train), (X_valid, y_valid)], verbose=False)\n",
    "print(xgb_only.get_xgb_params())"
   ]
  },
  {
   "cell_type": "code",
   "execution_count": null,
   "metadata": {
    "execution": {
     "execution_failed": "2025-08-29T15:49:52.995Z"
    },
    "trusted": true
   },
   "outputs": [
    {
     "data": {
      "text/plain": [
       "0.9757757164174993"
      ]
     },
     "execution_count": 26,
     "metadata": {},
     "output_type": "execute_result"
    }
   ],
   "source": [
    "print('evaluation set AUC: ', end='')\n",
    "roc_auc_score(y_valid, xgb_only.predict_proba(X_valid)[:, 1])"
   ]
  },
  {
   "cell_type": "code",
   "execution_count": null,
   "metadata": {
    "execution": {
     "execution_failed": "2025-08-29T15:49:52.995Z"
    },
    "trusted": true
   },
   "outputs": [
    {
     "data": {
      "text/plain": [
       "0.9658681771315629"
      ]
     },
     "execution_count": 28,
     "metadata": {},
     "output_type": "execute_result"
    }
   ],
   "source": [
    "print(f'X valid size:{len(X_valid)}, remaining size: {len(remaining)}')\n",
    "\n",
    "print('remaining set AUC: ', end='')\n",
    "roc_auc_score(Y_remaining, xgb_only.predict_proba(remaining)[:, 1])"
   ]
  },
  {
   "cell_type": "code",
   "execution_count": 31,
   "metadata": {
    "execution": {
     "execution_failed": "2025-08-29T15:49:52.995Z"
    },
    "trusted": true
   },
   "outputs": [
    {
     "data": {
      "image/png": "[encoded data removed]",
      "text/plain": [
       "<Figure size 1000x600 with 1 Axes>"
      ]
     },
     "metadata": {},
     "output_type": "display_data"
    }
   ],
   "source": [
    "### plot of AUC verse boosting rounds\n",
    "evals_result = xgb_only.evals_result()\n",
    "\n",
    "x_axis = range(0, len(evals_result['validation_0']['auc']))\n",
    "\n",
    "plt.figure(figsize=(10, 6))\n",
    "plt.plot(x_axis, evals_result['validation_0']['auc'], label='Train auc')\n",
    "plt.plot(x_axis, evals_result['validation_1']['auc'], label='Validation auc')\n",
    "plt.title('XGBoost Learning Curve (auc)')\n",
    "plt.xlabel('Number of Boosting Rounds')\n",
    "plt.ylabel('auc')\n",
    "plt.legend()\n",
    "plt.grid(True)\n",
    "plt.show()  "
   ]
  },
  {
   "cell_type": "code",
   "execution_count": 32,
   "metadata": {
    "execution": {
     "execution_failed": "2025-08-29T15:49:52.995Z"
    },
    "trusted": true
   },
   "outputs": [
    {
     "data": {
      "image/png": "[encoded data removed]",
      "text/plain": [
       "<Figure size 1000x500 with 1 Axes>"
      ]
     },
     "metadata": {},
     "output_type": "display_data"
    }
   ],
   "source": [
    "#### feature importance plot\n",
    "fig, ax = plt.subplots(figsize=(10, 5))\n",
    "xgb.plot_importance(xgb_only, max_num_features=20, importance_type='gain',ax=ax)\n",
    "plt.title(\"Top 20 Feature Importances (XGBoost)\")\n",
    "plt.show()"
   ]
  },
  {
   "cell_type": "markdown",
   "metadata": {},
   "source": [
    "#### feature importance"
   ]
  },
  {
   "cell_type": "code",
   "execution_count": null,
   "metadata": {},
   "outputs": [
    {
     "data": {
      "text/plain": [
       "['poutcome_cat_mean',\n",
       " 'duration_cat_mean',\n",
       " 'poutcome',\n",
       " 'balance_cat_mean',\n",
       " 'housing',\n",
       " 'contact_mean',\n",
       " 'pdays_cat_mean',\n",
       " 'duration',\n",
       " 'housing_cat_mean',\n",
       " 'contact_count']"
      ]
     },
     "execution_count": 33,
     "metadata": {},
     "output_type": "execute_result"
    }
   ],
   "source": [
    "feature_importance = xgb_only.get_booster().get_score(importance_type='gain')\n",
    "to_10_imp_feautures = [x for x,y in sorted(feature_importance.items(), key=lambda item:item[1], reverse=True)[:10]]\n",
    "print('Top 10 importance features: ', to_10_imp_feautures)\n"
   ]
  },
  {
   "cell_type": "code",
   "execution_count": null,
   "metadata": {},
   "outputs": [],
   "source": [
    "### top 10 features, train/remaining/test distribution comparison\n",
    "for col in to_10_imp_feautures:\n",
    "    print(col)\n",
    "\n",
    "    fig, axs = plt.subplots(1,3, figsize=(12,6))\n",
    "\n",
    "    sns.boxplot(y=train[col], x= Y_train, label='train',ax=axs[0])\n",
    "\n",
    "    sns.boxplot(y=remaining[col], x=Y_remaining,  label='remain', ax=axs[1])\n",
    "\n",
    "    sns.boxplot(y=test[col], x=[0]*len(test), label='test(0)',ax=axs[2])\n",
    "\n",
    "    axs[0].set_title(f'train {col}')\n",
    "    axs[2].set_title(f'train {col}')\n",
    "    axs[3].set_title(f'train {col}')\n",
    "\n",
    "\n",
    "    plt.legend(bbox_to_anchor=(1.3, 1))\n",
    "\n",
    "    plt.show()"
   ]
  },
  {
   "cell_type": "code",
   "execution_count": 66,
   "metadata": {},
   "outputs": [
    {
     "name": "stdout",
     "output_type": "stream",
     "text": [
      "total missing features in importance: 155\n",
      "top 50 missing total: 34\n",
      "total missing features ranking: [0, 1, 3, 4, 5, 6, 7, 8, 9, 10, 11, 15, 16, 18, 19, 21, 22, 23, 24, 25, 26, 27, 28, 29, 31, 32, 34, 36, 40, 42, 43, 46, 47, 48, 50, 52, 53, 54, 56, 57, 58, 60, 61, 65, 66, 68, 71, 72, 74, 75, 76, 77, 78, 80, 82, 83, 84, 86, 87, 94, 95, 97, 98, 101, 102, 103, 105, 106, 108, 109, 113, 114, 115, 117, 120, 122, 123, 124, 125, 127, 129, 131, 133, 134, 136, 137, 139, 141, 142, 143, 145, 146, 147, 148, 149, 150, 152, 153, 154, 155, 157, 158, 159, 160, 161, 162, 163, 164, 165, 166, 167, 168, 169, 171, 172, 173, 175, 177, 182, 185, 186, 189, 191, 192, 193, 194, 196, 197, 198, 199, 201, 204, 206, 209, 210, 211, 213, 214, 216, 217, 218, 223, 224, 227, 228, 229, 235, 238, 239, 240, 242, 248, 249, 251, 252]\n"
     ]
    }
   ],
   "source": [
    "missing_feature_rank = [important_feature_sorted.index(x) for x in na_cols if x in important_feature_sorted]\n",
    "print(f'total missing features in importance: {len(missing_feature_rank)}')\n",
    "print(f'top 50 missing total: {(np.array(missing_feature_rank)<50).sum()}')\n",
    "print(f'total missing features ranking: {sorted(missing_feature_rank)}')"
   ]
  },
  {
   "cell_type": "markdown",
   "metadata": {},
   "source": [
    "### XGB with CV"
   ]
  },
  {
   "cell_type": "code",
   "execution_count": 24,
   "metadata": {
    "execution": {
     "iopub.execute_input": "2025-08-29T14:34:59.385094Z",
     "iopub.status.busy": "2025-08-29T14:34:59.384757Z",
     "iopub.status.idle": "2025-08-29T15:20:13.551712Z",
     "shell.execute_reply": "2025-08-29T15:20:13.550158Z",
     "shell.execute_reply.started": "2025-08-29T14:34:59.385073Z"
    },
    "trusted": true
   },
   "outputs": [
    {
     "name": "stdout",
     "output_type": "stream",
     "text": [
      "=== Fold 1 ===: AUC: train 0.9904, valid 0.9806, remain: 0.9661\n",
      "=== Fold 2 ===: AUC: train 0.9903, valid 0.9807, remain: 0.9663\n",
      "=== Fold 3 ===: AUC: train 0.9903, valid 0.9805, remain: 0.9663\n",
      "=== Fold 4 ===: AUC: train 0.9903, valid 0.9805, remain: 0.9662\n",
      "=== Fold 5 ===: AUC: train 0.9903, valid 0.9805, remain: 0.9662\n",
      "=== Fold 6 ===: AUC: train 0.9903, valid 0.9807, remain: 0.9658\n",
      "=== Fold 7 ===: AUC: train 0.9903, valid 0.9806, remain: 0.9662\n",
      "=== Fold 8 ===: AUC: train 0.9903, valid 0.9807, remain: 0.9664\n",
      "=== Fold 9 ===: AUC: train 0.9903, valid 0.9806, remain: 0.9660\n",
      "=== Fold 10 ===: AUC: train 0.9903, valid 0.9805, remain: 0.9659\n"
     ]
    }
   ],
   "source": [
    "\n",
    "#### cross validation fold\n",
    "from sklearn.model_selection import KFold\n",
    "\n",
    "FOLD= 10\n",
    "kf = KFold(n_splits=FOLD, shuffle=True, random_state=30)\n",
    "\n",
    "auc_scores = {'train':[],\n",
    "              'valid':[],\n",
    "              'remain':[]}\n",
    "\n",
    "submission = {}\n",
    "eval_result_by_fold = {}\n",
    "model_list = []\n",
    "\n",
    "for fold, (train_idx, val_idx) in enumerate(kf.split(X_train.values,y_train.values), start=1):\n",
    "    print(f\"=== Fold {fold} ===\", end=': ')\n",
    "    \n",
    "    # Train/val split\n",
    "    X, X_val = X_train.values[train_idx], X_train.values[val_idx]\n",
    "    Y, y_val = y_train.values[train_idx], y_train.values[val_idx]\n",
    "\n",
    "    # Create model (sklearn API)\n",
    "    model = xgb.XGBClassifier(\n",
    "            n_estimators=2000,\n",
    "            learning_rate=0.1,\n",
    "            max_depth=10,\n",
    "            subsample=0.8,\n",
    "            reg_lambda = 0.8,\n",
    "            colsample_bytree = 0.7,\n",
    "            eval_metric='auc',\n",
    "            max_leaves = 32,\n",
    "            alpha=2,\n",
    "            early_stopping_rounds = 100\n",
    "            # verbose=1\n",
    "    )\n",
    "\n",
    "    # Fit with evaluation set for early stopping\n",
    "    model.fit(\n",
    "        X, Y,\n",
    "        eval_set=[(X, Y), (X_val, y_val)],\n",
    "        verbose=False\n",
    "    )\n",
    "\n",
    "    model_list.append(model)\n",
    "\n",
    "    ## eval matrix\n",
    "    eval_result_by_fold[fold] = model.evals_result()\n",
    "    \n",
    "    # AUC calculation: train\n",
    "    auc_train = roc_auc_score(y_train, model.predict_proba(X_train)[:, 1])\n",
    "    auc_scores['train'].append(auc_train)\n",
    "\n",
    "    # AUC calculation: val\n",
    "    auc_val = roc_auc_score(y_valid, model.predict_proba(X_valid)[:, 1])\n",
    "    auc_scores['valid'].append(auc_val)\n",
    "\n",
    "    # AUC calculation: val\n",
    "    auc_remain = roc_auc_score(Y_remaining, model.predict_proba(remaining)[:, 1])\n",
    "    auc_scores['remain'].append(auc_remain)\n",
    "\n",
    "    print(f\"AUC: train {auc_train:.4f}, valid {auc_val:.4f}, remain: {auc_remain:.4f}\")\n",
    "\n",
    "    ### test/submission\n",
    "    submission[fold] = model.predict_proba(test)[:, 1]"
   ]
  },
  {
   "cell_type": "code",
   "execution_count": null,
   "metadata": {
    "execution": {
     "execution_failed": "2025-08-29T15:49:52.995Z"
    },
    "trusted": true
   },
   "outputs": [],
   "source": [
    "# ### paralle model process\n",
    "# import multiprocessing\n",
    "\n",
    "# #### cross validation fold\n",
    "# from sklearn.model_selection import KFold\n",
    "\n",
    "# FOLD= 10\n",
    "# kf = KFold(n_splits=FOLD, shuffle=True, random_state=42)\n",
    "\n",
    "\n",
    "# def model_para(input_data):\n",
    "    \n",
    "#     fold, (train_idx, val_idx) = input_data\n",
    "#     output = {}\n",
    "#     fold_result = {\n",
    "#         'train':[],\n",
    "#         'valid':[],\n",
    "#         'test':[],\n",
    "#         'fold_val':[]\n",
    "#     }\n",
    "#     print(f'start to process fold: {fold}')\n",
    "#     # Train/val split\n",
    "#     X, X_val = X_train.values[train_idx], X_train.values[val_idx]\n",
    "#     Y, y_val = y_train.values[train_idx], y_train.values[val_idx]\n",
    "    \n",
    "#         # Create model (sklearn API)\n",
    "#     model = xgb.XGBClassifier(\n",
    "#             n_estimators=500,\n",
    "#             learning_rate=0.1,\n",
    "#             max_depth=10,\n",
    "#             subsample=0.8,\n",
    "#             reg_lambda = 0.8,\n",
    "#             colsample_bytree = 0.7,\n",
    "#             eval_metric='auc',\n",
    "#             max_leaves = 32,\n",
    "#             alpha=2,\n",
    "#             early_stopping_rounds = 50\n",
    "#             # verbose=1\n",
    "#     )\n",
    "\n",
    "#     # Fit with evaluation set for early stopping\n",
    "#     model.fit(\n",
    "#         X, Y,\n",
    "#         eval_set=[(X, Y), (X_val, y_val)],\n",
    "#         verbose=False\n",
    "#     )\n",
    "\n",
    "#     ## eval matrix\n",
    "#     fold_result['fold_val'] = model.evals_result()\n",
    "    \n",
    "#     # AUC calculation: train\n",
    "#     auc_train = roc_auc_score(y_train, model.predict_proba(X_train)[:, 1])\n",
    "#     fold_result['train'].append(auc_train)\n",
    "\n",
    "#     # AUC calculation: val\n",
    "#     auc_val = roc_auc_score(y_valid, model.predict_proba(X_valid)[:, 1])\n",
    "#     fold_result['valid'].append(auc_val)\n",
    "\n",
    "#     print(f\"fold {fold} AUC: train {auc_train:.4f}, valid {auc_val:.4f}\")\n",
    "\n",
    "#     ### test/submission\n",
    "#     fold_result['test'] = model.predict_proba(test)[:, 1]\n",
    "\n",
    "#     output[fold] = fold_result\n",
    "    \n",
    "#     return output\n",
    "\n",
    "# # %%timeit\n",
    "# pool = multiprocessing.Pool(processes=os.cpu_count())\n",
    "# result_map = pool.map(model_para, enumerate(kf.split(X_train.values,y_train.values), start=1))\n",
    "# result_map"
   ]
  },
  {
   "cell_type": "code",
   "execution_count": 28,
   "metadata": {
    "execution": {
     "iopub.execute_input": "2025-08-29T15:20:13.554362Z",
     "iopub.status.busy": "2025-08-29T15:20:13.553971Z",
     "iopub.status.idle": "2025-08-29T15:20:13.986042Z",
     "shell.execute_reply": "2025-08-29T15:20:13.984992Z",
     "shell.execute_reply.started": "2025-08-29T15:20:13.554306Z"
    },
    "trusted": true
   },
   "outputs": [
    {
     "data": {
      "image/png": "[encoded data removed]",
      "text/plain": [
       "<Figure size 1000x600 with 1 Axes>"
      ]
     },
     "metadata": {},
     "output_type": "display_data"
    }
   ],
   "source": [
    "\n",
    "x_axis = range(0,len(auc_scores['train']))\n",
    "\n",
    "valid_mean = [np.mean(auc_scores['valid'])]*len(x_axis)\n",
    "\n",
    "plt.figure(figsize=(10, 6))\n",
    "plt.plot(x_axis, auc_scores['train'], label='Train auc')\n",
    "plt.plot(x_axis, auc_scores['valid'], label='Validation auc')\n",
    "plt.plot(x_axis, auc_scores['remain'], label='remain auc')\n",
    "# plt.plot(x_axis, valid_mean, label='eval mean:{:.4f}'.format(np.mean(auc_scores['valid'])))\n",
    "plt.title('XGBoost Learning Curve (auc)')\n",
    "plt.xlabel('Number of CV Rounds')\n",
    "plt.ylabel('auc')\n",
    "plt.legend()\n",
    "plt.grid(True)\n",
    "plt.show()  "
   ]
  },
  {
   "cell_type": "code",
   "execution_count": 29,
   "metadata": {
    "execution": {
     "iopub.execute_input": "2025-08-29T15:20:13.987144Z",
     "iopub.status.busy": "2025-08-29T15:20:13.986931Z",
     "iopub.status.idle": "2025-08-29T15:20:14.194154Z",
     "shell.execute_reply": "2025-08-29T15:20:14.193145Z",
     "shell.execute_reply.started": "2025-08-29T15:20:13.987129Z"
    },
    "trusted": true
   },
   "outputs": [
    {
     "data": {
      "image/png": "[encoded data removed]",
      "text/plain": [
       "<Figure size 1000x600 with 1 Axes>"
      ]
     },
     "metadata": {},
     "output_type": "display_data"
    }
   ],
   "source": [
    "import random\n",
    "\n",
    "evals_result = eval_result_by_fold[random.randint(1,FOLD)]\n",
    "\n",
    "x_axis = range(0, len(evals_result['validation_0']['auc']))\n",
    "\n",
    "plt.figure(figsize=(10, 6))\n",
    "plt.plot(x_axis, evals_result['validation_0']['auc'], label='Train auc')\n",
    "plt.plot(x_axis, evals_result['validation_1']['auc'], label='Validation auc')\n",
    "plt.title('XGBoost Learning Curve (auc)')\n",
    "plt.xlabel('Number of Boosting Rounds')\n",
    "plt.ylabel('auc')\n",
    "plt.legend()\n",
    "plt.grid(True)\n",
    "plt.show() "
   ]
  },
  {
   "cell_type": "code",
   "execution_count": 27,
   "metadata": {},
   "outputs": [
    {
     "data": {
      "image/png": "[encoded data removed]",
      "text/plain": [
       "<Figure size 1000x500 with 1 Axes>"
      ]
     },
     "metadata": {},
     "output_type": "display_data"
    }
   ],
   "source": [
    "#### feature importance plot\n",
    "fig, ax = plt.subplots(figsize=(10, 5))\n",
    "xgb.plot_importance(model_list[5], max_num_features=20, importance_type='gain',ax=ax)\n",
    "plt.title(\"Top 20 Feature Importances (XGBoost)\")\n",
    "plt.show()"
   ]
  },
  {
   "cell_type": "code",
   "execution_count": 34,
   "metadata": {},
   "outputs": [
    {
     "ename": "KeyError",
     "evalue": "'f1'",
     "output_type": "error",
     "traceback": [
      "\u001b[1;31m---------------------------------------------------------------------------\u001b[0m",
      "\u001b[1;31mKeyError\u001b[0m                                  Traceback (most recent call last)",
      "Cell \u001b[1;32mIn[34], line 8\u001b[0m\n\u001b[0;32m      6\u001b[0m \u001b[38;5;28;01mfor\u001b[39;00m i \u001b[38;5;129;01min\u001b[39;00m \u001b[38;5;28mrange\u001b[39m(\u001b[38;5;28mlen\u001b[39m(feature_importance)):\n\u001b[0;32m      7\u001b[0m     col \u001b[38;5;241m=\u001b[39m columns[i]\n\u001b[1;32m----> 8\u001b[0m     feature_importance_cols[col] \u001b[38;5;241m=\u001b[39m feature_importance[\u001b[38;5;124m'\u001b[39m\u001b[38;5;124mf\u001b[39m\u001b[38;5;124m'\u001b[39m\u001b[38;5;241m+\u001b[39m\u001b[38;5;28mstr\u001b[39m(i)]\n\u001b[0;32m     11\u001b[0m [x \u001b[38;5;28;01mfor\u001b[39;00m x,y \u001b[38;5;129;01min\u001b[39;00m \u001b[38;5;28msorted\u001b[39m(feature_importance_cols\u001b[38;5;241m.\u001b[39mitems(), key\u001b[38;5;241m=\u001b[39m\u001b[38;5;28;01mlambda\u001b[39;00m item:item[\u001b[38;5;241m1\u001b[39m], reverse\u001b[38;5;241m=\u001b[39m\u001b[38;5;28;01mTrue\u001b[39;00m)[:\u001b[38;5;241m10\u001b[39m]]\n",
      "\u001b[1;31mKeyError\u001b[0m: 'f1'"
     ]
    }
   ],
   "source": [
    "feature_importance = model_list[5].get_booster().get_score(importance_type='gain')\n",
    "\n",
    "feature_importance_cols = {}\n",
    "columns = X_train.columns.tolist()\n",
    "i=0\n",
    "for i in range(len(feature_importance)):\n",
    "    col = columns[i]\n",
    "    feature_importance_cols[col] = feature_importance['f'+str(i)]\n",
    "\n",
    "\n",
    "[x for x,y in sorted(feature_importance_cols.items(), key=lambda item:item[1], reverse=True)[:10]]"
   ]
  },
  {
   "cell_type": "code",
   "execution_count": null,
   "metadata": {},
   "outputs": [],
   "source": []
  },
  {
   "cell_type": "code",
   "execution_count": 30,
   "metadata": {
    "execution": {
     "iopub.execute_input": "2025-08-29T15:20:14.196329Z",
     "iopub.status.busy": "2025-08-29T15:20:14.196065Z",
     "iopub.status.idle": "2025-08-29T15:20:14.246173Z",
     "shell.execute_reply": "2025-08-29T15:20:14.245236Z",
     "shell.execute_reply.started": "2025-08-29T15:20:14.196311Z"
    },
    "trusted": true
   },
   "outputs": [
    {
     "data": {
      "application/vnd.microsoft.datawrangler.viewer.v0+json": {
       "columns": [
        {
         "name": "index",
         "rawType": "int64",
         "type": "integer"
        },
        {
         "name": "id",
         "rawType": "int64",
         "type": "integer"
        },
        {
         "name": "y",
         "rawType": "float32",
         "type": "float"
        }
       ],
       "ref": "cb599fb8-238d-439e-8dbc-8959186b9e7f",
       "rows": [
        [
         "0",
         "750000",
         "2.8824124e-05"
        ],
        [
         "1",
         "750001",
         "0.105203725"
        ],
        [
         "2",
         "750002",
         "0.00017997467"
        ],
        [
         "3",
         "750003",
         "1.1610332e-05"
        ],
        [
         "4",
         "750004",
         "1.5045043e-05"
        ],
        [
         "5",
         "750005",
         "0.0018700432"
        ],
        [
         "6",
         "750006",
         "0.7029603"
        ],
        [
         "7",
         "750007",
         "0.8565192"
        ],
        [
         "8",
         "750008",
         "0.002596604"
        ],
        [
         "9",
         "750009",
         "0.28641018"
        ],
        [
         "10",
         "750010",
         "3.416091e-05"
        ],
        [
         "11",
         "750011",
         "0.00045285662"
        ],
        [
         "12",
         "750012",
         "0.26123792"
        ],
        [
         "13",
         "750013",
         "3.482201e-05"
        ],
        [
         "14",
         "750014",
         "0.2209311"
        ],
        [
         "15",
         "750015",
         "0.009156058"
        ],
        [
         "16",
         "750016",
         "7.78679e-07"
        ],
        [
         "17",
         "750017",
         "0.09641658"
        ],
        [
         "18",
         "750018",
         "0.1337861"
        ],
        [
         "19",
         "750019",
         "0.19708258"
        ],
        [
         "20",
         "750020",
         "0.12649567"
        ],
        [
         "21",
         "750021",
         "0.33421952"
        ],
        [
         "22",
         "750022",
         "5.0708713e-06"
        ],
        [
         "23",
         "750023",
         "0.0003683636"
        ],
        [
         "24",
         "750024",
         "8.8882797e-07"
        ],
        [
         "25",
         "750025",
         "4.03009e-05"
        ],
        [
         "26",
         "750026",
         "0.3367004"
        ],
        [
         "27",
         "750027",
         "0.00065423606"
        ],
        [
         "28",
         "750028",
         "0.32757014"
        ],
        [
         "29",
         "750029",
         "0.9710962"
        ],
        [
         "30",
         "750030",
         "0.2495265"
        ],
        [
         "31",
         "750031",
         "0.00054871937"
        ],
        [
         "32",
         "750032",
         "0.00015374101"
        ],
        [
         "33",
         "750033",
         "0.0030938282"
        ],
        [
         "34",
         "750034",
         "0.89981234"
        ],
        [
         "35",
         "750035",
         "0.00028151908"
        ],
        [
         "36",
         "750036",
         "2.7882323e-05"
        ],
        [
         "37",
         "750037",
         "0.00027371693"
        ],
        [
         "38",
         "750038",
         "1.7851402e-05"
        ],
        [
         "39",
         "750039",
         "0.00044437876"
        ],
        [
         "40",
         "750040",
         "0.18550625"
        ],
        [
         "41",
         "750041",
         "3.9704988e-05"
        ],
        [
         "42",
         "750042",
         "0.00014214547"
        ],
        [
         "43",
         "750043",
         "5.2583324e-05"
        ],
        [
         "44",
         "750044",
         "0.0026518428"
        ],
        [
         "45",
         "750045",
         "0.021797365"
        ],
        [
         "46",
         "750046",
         "0.0005219392"
        ],
        [
         "47",
         "750047",
         "0.0012757585"
        ],
        [
         "48",
         "750048",
         "0.9548116"
        ],
        [
         "49",
         "750049",
         "0.04193901"
        ]
       ],
       "shape": {
        "columns": 2,
        "rows": 250000
       }
      },
      "text/html": [
       "<div>\n",
       "<style scoped>\n",
       "    .dataframe tbody tr th:only-of-type {\n",
       "        vertical-align: middle;\n",
       "    }\n",
       "\n",
       "    .dataframe tbody tr th {\n",
       "        vertical-align: top;\n",
       "    }\n",
       "\n",
       "    .dataframe thead th {\n",
       "        text-align: right;\n",
       "    }\n",
       "</style>\n",
       "<table border=\"1\" class=\"dataframe\">\n",
       "  <thead>\n",
       "    <tr style=\"text-align: right;\">\n",
       "      <th></th>\n",
       "      <th>id</th>\n",
       "      <th>y</th>\n",
       "    </tr>\n",
       "  </thead>\n",
       "  <tbody>\n",
       "    <tr>\n",
       "      <th>0</th>\n",
       "      <td>750000</td>\n",
       "      <td>0.000029</td>\n",
       "    </tr>\n",
       "    <tr>\n",
       "      <th>1</th>\n",
       "      <td>750001</td>\n",
       "      <td>0.105204</td>\n",
       "    </tr>\n",
       "    <tr>\n",
       "      <th>2</th>\n",
       "      <td>750002</td>\n",
       "      <td>0.000180</td>\n",
       "    </tr>\n",
       "    <tr>\n",
       "      <th>3</th>\n",
       "      <td>750003</td>\n",
       "      <td>0.000012</td>\n",
       "    </tr>\n",
       "    <tr>\n",
       "      <th>4</th>\n",
       "      <td>750004</td>\n",
       "      <td>0.000015</td>\n",
       "    </tr>\n",
       "    <tr>\n",
       "      <th>...</th>\n",
       "      <td>...</td>\n",
       "      <td>...</td>\n",
       "    </tr>\n",
       "    <tr>\n",
       "      <th>249995</th>\n",
       "      <td>999995</td>\n",
       "      <td>0.000174</td>\n",
       "    </tr>\n",
       "    <tr>\n",
       "      <th>249996</th>\n",
       "      <td>999996</td>\n",
       "      <td>0.050875</td>\n",
       "    </tr>\n",
       "    <tr>\n",
       "      <th>249997</th>\n",
       "      <td>999997</td>\n",
       "      <td>0.759349</td>\n",
       "    </tr>\n",
       "    <tr>\n",
       "      <th>249998</th>\n",
       "      <td>999998</td>\n",
       "      <td>0.000070</td>\n",
       "    </tr>\n",
       "    <tr>\n",
       "      <th>249999</th>\n",
       "      <td>999999</td>\n",
       "      <td>0.105240</td>\n",
       "    </tr>\n",
       "  </tbody>\n",
       "</table>\n",
       "<p>250000 rows × 2 columns</p>\n",
       "</div>"
      ],
      "text/plain": [
       "            id         y\n",
       "0       750000  0.000029\n",
       "1       750001  0.105204\n",
       "2       750002  0.000180\n",
       "3       750003  0.000012\n",
       "4       750004  0.000015\n",
       "...        ...       ...\n",
       "249995  999995  0.000174\n",
       "249996  999996  0.050875\n",
       "249997  999997  0.759349\n",
       "249998  999998  0.000070\n",
       "249999  999999  0.105240\n",
       "\n",
       "[250000 rows x 2 columns]"
      ]
     },
     "execution_count": 30,
     "metadata": {},
     "output_type": "execute_result"
    }
   ],
   "source": [
    "final_pred = pd.DataFrame(submission).mean(axis=1)\n",
    "predict_df['y'] = final_pred\n",
    "predict_df"
   ]
  },
  {
   "cell_type": "code",
   "execution_count": 31,
   "metadata": {
    "execution": {
     "iopub.execute_input": "2025-08-29T15:20:14.247642Z",
     "iopub.status.busy": "2025-08-29T15:20:14.247157Z",
     "iopub.status.idle": "2025-08-29T15:20:14.597448Z",
     "shell.execute_reply": "2025-08-29T15:20:14.596129Z",
     "shell.execute_reply.started": "2025-08-29T15:20:14.247611Z"
    },
    "trusted": true
   },
   "outputs": [],
   "source": [
    "predict_df.to_csv('submission_17_xgb_np_2000.csv',header=True, index=False)"
   ]
  },
  {
   "cell_type": "code",
   "execution_count": null,
   "metadata": {
    "execution": {
     "iopub.execute_input": "2025-08-29T15:26:37.822543Z",
     "iopub.status.busy": "2025-08-29T15:26:37.822186Z",
     "iopub.status.idle": "2025-08-29T15:26:38.409363Z",
     "shell.execute_reply": "2025-08-29T15:26:38.408123Z",
     "shell.execute_reply.started": "2025-08-29T15:26:37.822513Z"
    },
    "trusted": true
   },
   "outputs": [
    {
     "name": "stdout",
     "output_type": "stream",
     "text": [
      "Traceback (most recent call last):\n",
      "  File \"/usr/local/bin/kaggle\", line 4, in <module>\n",
      "    from kaggle.cli import main\n",
      "  File \"/usr/local/lib/python3.11/dist-packages/kaggle/__init__.py\", line 6, in <module>\n",
      "    api.authenticate()\n",
      "  File \"/usr/local/lib/python3.11/dist-packages/kaggle/api/kaggle_api_extended.py\", line 434, in authenticate\n",
      "    raise IOError('Could not find {}. Make sure it\\'s located in'\n",
      "OSError: Could not find kaggle.json. Make sure it's located in /root/.config/kaggle. Or use the environment method. See setup instructions at https://github.com/Kaggle/kaggle-api/\n"
     ]
    }
   ],
   "source": [
    "# !kaggle competitions submit -c playground-series-s5e8 -f './submission_7_xgb_with_old.csv'"
   ]
  },
  {
   "cell_type": "code",
   "execution_count": null,
   "metadata": {
    "execution": {
     "iopub.execute_input": "2025-08-29T15:30:28.914778Z",
     "iopub.status.busy": "2025-08-29T15:30:28.914288Z",
     "iopub.status.idle": "2025-08-29T15:30:28.934038Z",
     "shell.execute_reply": "2025-08-29T15:30:28.930360Z",
     "shell.execute_reply.started": "2025-08-29T15:30:28.914723Z"
    },
    "trusted": true
   },
   "outputs": [
    {
     "data": {
      "text/plain": [
       "'/kaggle/working'"
      ]
     },
     "execution_count": 36,
     "metadata": {},
     "output_type": "execute_result"
    }
   ],
   "source": [
    "os.getcwd()"
   ]
  },
  {
   "cell_type": "code",
   "execution_count": null,
   "metadata": {
    "trusted": true
   },
   "outputs": [],
   "source": []
  },
  {
   "cell_type": "markdown",
   "metadata": {},
   "source": [
    "### XGB only"
   ]
  },
  {
   "cell_type": "code",
   "execution_count": null,
   "metadata": {},
   "outputs": [],
   "source": []
  },
  {
   "cell_type": "code",
   "execution_count": null,
   "metadata": {},
   "outputs": [],
   "source": []
  }
 ],
 "metadata": {
  "kaggle": {
   "accelerator": "none",
   "dataSources": [
    {
     "databundleVersionId": 12937777,
     "sourceId": 91719,
     "sourceType": "competition"
    },
    {
     "datasetId": 5626665,
     "sourceId": 9293783,
     "sourceType": "datasetVersion"
    }
   ],
   "isGpuEnabled": false,
   "isInternetEnabled": true,
   "language": "python",
   "sourceType": "notebook"
  },
  "kernelspec": {
   "display_name": "kaggle_env",
   "language": "python",
   "name": "python3"
  },
  "language_info": {
   "codemirror_mode": {
    "name": "ipython",
    "version": 3
   },
   "file_extension": ".py",
   "mimetype": "text/x-python",
   "name": "python",
   "nbconvert_exporter": "python",
   "pygments_lexer": "ipython3",
   "version": "3.12.7"
  }
 },
 "nbformat": 4,
 "nbformat_minor": 4
}
